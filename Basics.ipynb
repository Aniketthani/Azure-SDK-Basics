{
  "cells": [
    {
      "cell_type": "markdown",
      "source": [
        "# Workspace"
      ],
      "metadata": {
        "nteract": {
          "transient": {
            "deleting": false
          }
        }
      }
    },
    {
      "cell_type": "markdown",
      "source": [
        "The first class you will work with is the AzureML Workspace, a class that gives\r\n",
        "you access to all the resources within your workspace. To create a reference to your\r\n",
        "workspace, you will need the following information:\r\n",
        "\r\n",
        "• **Subscription ID**: The subscription where the workspace is located. This is\r\n",
        "a Globally Unique Identifier (GUID, also known as a UUID) that consists\r\n",
        "of 32 hexadecimal (0-F) digits; for example, ab05ab05-ab05-ab05-ab05-\r\n",
        "ab05ab05ab05. You can find this ID in the Azure portal in the Properties tab\r\n",
        "of the subscription you are using.\r\n",
        "\r\n",
        "• **Resource group name**: The resource group that contains the AzureML\r\n",
        "workspace components.\r\n",
        "\r\n",
        "• **Workspace name**: The name of the AzureML workspace.\r\n"
      ],
      "metadata": {
        "nteract": {
          "transient": {
            "deleting": false
          }
        }
      }
    },
    {
      "cell_type": "code",
      "source": [
        "subscription_id=\"\"\r\n",
        "resource_group=\"\"\r\n",
        "workspace_name=\"\""
      ],
      "outputs": [],
      "execution_count": 53,
      "metadata": {
        "jupyter": {
          "source_hidden": false,
          "outputs_hidden": false
        },
        "nteract": {
          "transient": {
            "deleting": false
          }
        },
        "gather": {
          "logged": 1648742371323
        }
      }
    },
    {
      "cell_type": "code",
      "source": [
        "from azureml.core import Workspace\r\n",
        "ws=Workspace(subscription_id,resource_group,workspace_name)"
      ],
      "outputs": [],
      "execution_count": 2,
      "metadata": {
        "jupyter": {
          "source_hidden": false,
          "outputs_hidden": false
        },
        "nteract": {
          "transient": {
            "deleting": false
          }
        },
        "gather": {
          "logged": 1648732878771
        }
      }
    },
    {
      "cell_type": "code",
      "source": [
        "from azureml.core import Workspace\r\n",
        "ws = Workspace.get(name=workspace_name,\r\n",
        " subscription_id=subscription_id,\r\n",
        " resource_group=resource_group)\r\n"
      ],
      "outputs": [],
      "execution_count": 3,
      "metadata": {
        "jupyter": {
          "source_hidden": false,
          "outputs_hidden": false
        },
        "nteract": {
          "transient": {
            "deleting": false
          }
        },
        "gather": {
          "logged": 1648732879608
        }
      }
    },
    {
      "cell_type": "markdown",
      "source": [
        "The previous two ways of getting the AzureML workspace reference are identical. The\r\n",
        "main issue with them, however, is that they hardcode the workspace where the script is\r\n",
        "connecting to. Imagine that you want to share a notebook with a friend, and you have\r\n",
        "hardcoded the subscription ID, resource name, and workspace name in that notebook.\r\n",
        "Your friend would have to manually go and edit that cell. This problem becomes even\r\n",
        "more obvious when you want to write a script that runs in multiple environments,\r\n",
        "such as the development environment, the quality assurance environment, and the\r\n",
        "production environment."
      ],
      "metadata": {
        "nteract": {
          "transient": {
            "deleting": false
          }
        }
      }
    },
    {
      "cell_type": "markdown",
      "source": [
        "The Workspace class offers the from_config() method to address this issue. This\r\n",
        "method searches the folder tree structure for the config.json file.\r\n",
        "\r\n",
        "In the case of the compute instance, this file is located in the root folder (/config.\r\n",
        "json) and was automatically created there when you provisioned the compute instance\r\n",
        "within the AzureML workspace"
      ],
      "metadata": {
        "nteract": {
          "transient": {
            "deleting": false
          }
        }
      }
    },
    {
      "cell_type": "code",
      "source": [
        "from azureml.core import Workspace\r\n",
        "ws = Workspace.from_config()\r\n",
        "print(f\"Connected to workspace {ws.name}\")"
      ],
      "outputs": [
        {
          "output_type": "stream",
          "name": "stdout",
          "text": "Connected to workspace prod_dev_ml_ws\n"
        }
      ],
      "execution_count": 4,
      "metadata": {
        "jupyter": {
          "source_hidden": false,
          "outputs_hidden": false
        },
        "nteract": {
          "transient": {
            "deleting": false
          }
        },
        "gather": {
          "logged": 1648732884852
        }
      }
    },
    {
      "cell_type": "markdown",
      "source": [
        "If you want to spin up a new AzureML workspace, you can provision one using the\r\n",
        "Workspace.create() method."
      ],
      "metadata": {
        "nteract": {
          "transient": {
            "deleting": false
          }
        }
      }
    },
    {
      "cell_type": "code",
      "source": [
        "from azureml.core import Workspace"
      ],
      "outputs": [],
      "execution_count": 5,
      "metadata": {
        "jupyter": {
          "source_hidden": false,
          "outputs_hidden": false
        },
        "nteract": {
          "transient": {
            "deleting": false
          }
        },
        "gather": {
          "logged": 1648732889380
        }
      }
    },
    {
      "cell_type": "code",
      "source": [
        "new_ws=Workspace.create(name=\"new_ml_ws_prod_dev\",\r\n",
        "subscription_id=subscription_id,\r\n",
        "resource_group=resource_group,\r\n",
        "create_resource_group=False,\r\n",
        "location=\"eastus\"\r\n",
        ")"
      ],
      "outputs": [
        {
          "output_type": "stream",
          "name": "stdout",
          "text": "Deploying StorageAccount with name newmlwspstorageefc3f126b.\nDeploying KeyVault with name newmlwspkeyvault39367f99.\nDeploying AppInsights with name newmlwspinsightsdb6fbf35.\nDeployed AppInsights with name newmlwspinsightsdb6fbf35. Took 1.36 seconds.\nDeployed KeyVault with name newmlwspkeyvault39367f99. Took 16.91 seconds.\nDeploying Workspace with name new_ml_ws_prod_dev.\nDeployed StorageAccount with name newmlwspstorageefc3f126b. Took 26.38 seconds.\nDeployed Workspace with name new_ml_ws_prod_dev. Took 16.54 seconds.\n"
        }
      ],
      "execution_count": 8,
      "metadata": {
        "jupyter": {
          "source_hidden": false,
          "outputs_hidden": false
        },
        "nteract": {
          "transient": {
            "deleting": false
          }
        },
        "gather": {
          "logged": 1648722918429
        }
      }
    },
    {
      "cell_type": "markdown",
      "source": [
        "To delete the workspace"
      ],
      "metadata": {
        "nteract": {
          "transient": {
            "deleting": false
          }
        }
      }
    },
    {
      "cell_type": "code",
      "source": [
        "new_ws.delete(delete_dependent_resources=True)"
      ],
      "outputs": [],
      "execution_count": 9,
      "metadata": {
        "jupyter": {
          "source_hidden": false,
          "outputs_hidden": false
        },
        "nteract": {
          "transient": {
            "deleting": false
          }
        },
        "gather": {
          "logged": 1648723014439
        }
      }
    },
    {
      "cell_type": "markdown",
      "source": [
        "This code deletes the workspace being referenced by the new_ws variable and removes\r\n",
        "the dependent resources, which are the storage account, the key vault, and the Application\r\n",
        "Insights resources that were deployed with the AzureML workspace."
      ],
      "metadata": {
        "nteract": {
          "transient": {
            "deleting": false
          }
        }
      }
    },
    {
      "cell_type": "markdown",
      "source": [
        "# Working with compute targets"
      ],
      "metadata": {
        "nteract": {
          "transient": {
            "deleting": false
          }
        }
      }
    },
    {
      "cell_type": "markdown",
      "source": [
        "The AzureML SDK allows you to list the existing compute targets you may have\r\n",
        "in your workspace or provision new ones if needed"
      ],
      "metadata": {
        "nteract": {
          "transient": {
            "deleting": false
          }
        }
      }
    },
    {
      "cell_type": "code",
      "source": [
        "ws.compute_targets"
      ],
      "outputs": [
        {
          "output_type": "execute_result",
          "execution_count": 6,
          "data": {
            "text/plain": "{'training-compute123': {\n   \"id\": \"/subscriptions/a8b508b6-da16-4c45-84f5-cac5c9f57513/resourceGroups/azure-mlops/providers/Microsoft.MachineLearningServices/workspaces/prod_dev_ml_ws/computes/training-compute123\",\n   \"name\": \"training-compute123\",\n   \"location\": \"eastus\",\n   \"tags\": {},\n   \"properties\": {\n     \"description\": null,\n     \"computeType\": \"ComputeInstance\",\n     \"computeLocation\": \"eastus\",\n     \"resourceId\": null,\n     \"provisioningErrors\": null,\n     \"provisioningState\": \"Succeeded\",\n     \"properties\": {\n       \"vmSize\": \"STANDARD_DS11_V2\",\n       \"applications\": [\n         {\n           \"displayName\": \"Jupyter\",\n           \"endpointUri\": \"https://training-compute123.eastus.instances.azureml.ms/tree/\"\n         },\n         {\n           \"displayName\": \"Jupyter Lab\",\n           \"endpointUri\": \"https://training-compute123.eastus.instances.azureml.ms/lab\"\n         },\n         {\n           \"displayName\": \"RStudio\",\n           \"endpointUri\": \"https://training-compute123-8787.eastus.instances.azureml.ms\"\n         }\n       ],\n       \"connectivityEndpoints\": {\n         \"publicIpAddress\": \"52.152.205.31\",\n         \"privateIpAddress\": \"10.0.0.4\"\n       },\n       \"sshSettings\": {\n         \"sshPublicAccess\": \"Disabled\",\n         \"adminUserName\": \"azureuser\",\n         \"adminPublicKey\": null,\n         \"sshPort\": 4000\n       },\n       \"personalComputeInstanceSettings\": null,\n       \"subnet\": {\n         \"id\": null\n       },\n       \"errors\": []\n     },\n     \"status\": {\n       \"errors\": [],\n       \"creationTime\": \"2022-03-31T10:18:54.088087+00:00\",\n       \"createdBy\": {\n         \"userObjectId\": \"fc08a581-b7d5-44fc-a727-bbd6a0505413\",\n         \"userTenantId\": \"e648628f-f65c-40cc-8a28-c601daf26a89\",\n         \"userName\": null\n       },\n       \"modifiedTime\": \"2022-03-31T13:05:36.340563+00:00\",\n       \"state\": \"Running\",\n       \"vmSize\": \"STANDARD_DS11_V2\"\n     }\n   }\n }}"
          },
          "metadata": {}
        }
      ],
      "execution_count": 6,
      "metadata": {
        "jupyter": {
          "source_hidden": false,
          "outputs_hidden": false
        },
        "nteract": {
          "transient": {
            "deleting": false
          }
        },
        "gather": {
          "logged": 1648732895424
        }
      }
    },
    {
      "cell_type": "code",
      "source": [
        "for compute_name in ws.compute_targets:\r\n",
        "    compute=ws.compute_targets[compute_name]\r\n",
        "    print(f\"Compute {compute.name} is a {type(compute)}\")"
      ],
      "outputs": [
        {
          "output_type": "stream",
          "name": "stdout",
          "text": "Compute training-compute123 is a <class 'azureml.core.compute.computeinstance.ComputeInstance'>\n"
        }
      ],
      "execution_count": 7,
      "metadata": {
        "jupyter": {
          "source_hidden": false,
          "outputs_hidden": false
        },
        "nteract": {
          "transient": {
            "deleting": false
          }
        },
        "gather": {
          "logged": 1648732899590
        }
      }
    },
    {
      "cell_type": "markdown",
      "source": [
        "The output should list at least the ComputeInstance area where you are executing the\r\n",
        "script. You will notice that all the compute types are defined within the modules of\r\n",
        "the azureml.core.compute package."
      ],
      "metadata": {
        "nteract": {
          "transient": {
            "deleting": false
          }
        }
      }
    },
    {
      "cell_type": "markdown",
      "source": [
        "Another way to get a reference to a compute target is to use the ComputeTarget\r\n",
        "constructor. You need to pass in the Workspace reference and the name of the compute\r\n",
        "target you are looking for. If the target does not exist, a ComputeTargetException\r\n",
        "exception will be raised that you have to handle in your code base"
      ],
      "metadata": {
        "nteract": {
          "transient": {
            "deleting": false
          }
        }
      }
    },
    {
      "cell_type": "code",
      "source": [
        "from azureml.core import ComputeTarget\r\n",
        "from azureml.exceptions import ComputeTargetException"
      ],
      "outputs": [],
      "execution_count": 8,
      "metadata": {
        "jupyter": {
          "source_hidden": false,
          "outputs_hidden": false
        },
        "nteract": {
          "transient": {
            "deleting": false
          }
        },
        "gather": {
          "logged": 1648732903512
        }
      }
    },
    {
      "cell_type": "code",
      "source": [
        "compute_name=\"training-compute123\"\r\n",
        "compute=None"
      ],
      "outputs": [],
      "execution_count": 9,
      "metadata": {
        "jupyter": {
          "source_hidden": false,
          "outputs_hidden": false
        },
        "nteract": {
          "transient": {
            "deleting": false
          }
        },
        "gather": {
          "logged": 1648732907093
        }
      }
    },
    {
      "cell_type": "code",
      "source": [
        "try:\r\n",
        "    compute=ComputeTarget(ws,compute_name)\r\n",
        "    print(f\"Found {compute_name} which is {type(compute)}\")\r\n",
        "except ComputeTargetException as e:\r\n",
        "    print(f\"Failed to get compute {compute_name}. Error: {e}\")"
      ],
      "outputs": [
        {
          "output_type": "stream",
          "name": "stdout",
          "text": "Found training-compute123 which is <class 'azureml.core.compute.computeinstance.ComputeInstance'>\n"
        }
      ],
      "execution_count": 10,
      "metadata": {
        "jupyter": {
          "source_hidden": false,
          "outputs_hidden": false
        },
        "nteract": {
          "transient": {
            "deleting": false
          }
        },
        "gather": {
          "logged": 1648732921263
        }
      }
    },
    {
      "cell_type": "markdown",
      "source": [
        "The ComputeTarget class offers the create() method, which allows you to provision\r\n",
        "various compute targets, including compute instances (the ComputeInstance\r\n",
        "class), compute clusters (the AmlCompute class), and Azure Kubernetes Service (the\r\n",
        "AKSCompute class) targets."
      ],
      "metadata": {
        "nteract": {
          "transient": {
            "deleting": false
          }
        }
      }
    },
    {
      "cell_type": "markdown",
      "source": [
        "To provision a compute target, you will need to create a configuration object that\r\n",
        "inherits from the ComputeTargetProvisioningConfiguration abstract\r\n",
        "class."
      ],
      "metadata": {
        "nteract": {
          "transient": {
            "deleting": false
          }
        }
      }
    },
    {
      "cell_type": "code",
      "source": [
        "from azureml.core.compute import ComputeTarget, AmlCompute\r\n",
        "compute_name=\"demo-clusterakt\""
      ],
      "outputs": [],
      "execution_count": 11,
      "metadata": {
        "jupyter": {
          "source_hidden": false,
          "outputs_hidden": false
        },
        "nteract": {
          "transient": {
            "deleting": false
          }
        },
        "gather": {
          "logged": 1648732925980
        }
      }
    },
    {
      "cell_type": "code",
      "source": [
        "cluster=None\r\n",
        "if compute_name in ws.compute_targets:\r\n",
        "    print(\"Getting referrence to compute cluster\")\r\n",
        "    custer=ws.compute_targets[compute_name]\r\n",
        "else:\r\n",
        "    print(\"creating compute cluster\")\r\n",
        "    config=AmlCompute.provisioning_configuration(vm_size='Standard_D1',max_nodes=2)\r\n",
        "    cluster=ComputeTarget.create(ws,compute_name,config)\r\n",
        "    cluster.wait_for_completion(show_output=True)\r\n",
        "    print(f\"Got reference to cluster {cluster.name}\")"
      ],
      "outputs": [
        {
          "output_type": "stream",
          "name": "stdout",
          "text": "creating compute cluster\nInProgress.\nSucceededProvisioning operation finished, operation \"Succeeded\"\nSucceeded\nAmlCompute wait for completion finished\n\nMinimum number of nodes requested have been provisioned\nGot reference to cluster demo-clusterakt\n"
        }
      ],
      "execution_count": 12,
      "metadata": {
        "jupyter": {
          "source_hidden": false,
          "outputs_hidden": false
        },
        "nteract": {
          "transient": {
            "deleting": false
          }
        },
        "gather": {
          "logged": 1648732945540
        }
      }
    },
    {
      "cell_type": "markdown",
      "source": [
        "The script is only specifying the maximum nodes (the max_nodes argument) that the\r\n",
        "compute cluster will have. If you do not specify the minimum nodes (the min_nodes\r\n",
        "argument), the argument will be the default value of 0. This means that by default, the\r\n",
        "cluster will scale down to 0 nodes, inflicting no compute costs when no job is running. "
      ],
      "metadata": {
        "nteract": {
          "transient": {
            "deleting": false
          }
        }
      }
    },
    {
      "cell_type": "markdown",
      "source": [
        "One of the drawbacks of having 0 minimum nodes in a compute cluster is that you will\r\n",
        "have to wait for the compute nodes to be allocated before the job you submitted gets\r\n",
        "executed. To save this slack time, it is common to scale up the minimum and even the\r\n",
        "maximum nodes of the cluster during workdays, and then change those values after\r\n",
        "business hours to save on costs."
      ],
      "metadata": {
        "nteract": {
          "transient": {
            "deleting": false
          }
        }
      }
    },
    {
      "cell_type": "markdown",
      "source": [
        "# Defining datastores\r\n"
      ],
      "metadata": {
        "nteract": {
          "transient": {
            "deleting": false
          }
        }
      }
    },
    {
      "cell_type": "code",
      "source": [
        "from azureml.core import Datastore"
      ],
      "outputs": [],
      "execution_count": 16,
      "metadata": {
        "jupyter": {
          "source_hidden": false,
          "outputs_hidden": false
        },
        "nteract": {
          "transient": {
            "deleting": false
          }
        },
        "gather": {
          "logged": 1648733955496
        }
      }
    },
    {
      "cell_type": "code",
      "source": [
        "dstore=Datastore.register_azure_blob_container(ws,datastore_name=\"myblob_datastore\",\r\n",
        "container_name=\"mynewcontainer123\",account_name=\"proddevmlws8204932307\",account_key=\"smIo47xCxlQqxTGaZW5M+UnPnH7RaUKbvATe20MxUG0zNohFY46pEQlGG/hiiZgubixb32lZ24L7+AStHofvqg==\",\r\n",
        "create_if_not_exists=True\r\n",
        ")"
      ],
      "outputs": [],
      "execution_count": 17,
      "metadata": {
        "jupyter": {
          "source_hidden": false,
          "outputs_hidden": false
        },
        "nteract": {
          "transient": {
            "deleting": false
          }
        },
        "gather": {
          "logged": 1648734306028
        }
      }
    },
    {
      "cell_type": "markdown",
      "source": [
        "To get a reference to the connected datastore, you can use the Datastore class\r\n",
        "constructor"
      ],
      "metadata": {
        "nteract": {
          "transient": {
            "deleting": false
          }
        }
      }
    },
    {
      "cell_type": "code",
      "source": [
        "from azureml.core import Datastore\r\n",
        "dstore=Datastore.get(ws,datastore_name=\"myblob_datastore\")"
      ],
      "outputs": [],
      "execution_count": 18,
      "metadata": {
        "jupyter": {
          "source_hidden": false,
          "outputs_hidden": false
        },
        "nteract": {
          "transient": {
            "deleting": false
          }
        },
        "gather": {
          "logged": 1648734417004
        }
      }
    },
    {
      "cell_type": "markdown",
      "source": [
        "The Workspace class offers a shortcut that gives a reference to that store using the\r\n",
        "get_default_datastore() method"
      ],
      "metadata": {
        "nteract": {
          "transient": {
            "deleting": false
          }
        }
      }
    },
    {
      "cell_type": "code",
      "source": [
        "dstore=ws.get_default_datastore()"
      ],
      "outputs": [],
      "execution_count": 19,
      "metadata": {
        "jupyter": {
          "source_hidden": false,
          "outputs_hidden": false
        },
        "nteract": {
          "transient": {
            "deleting": false
          }
        },
        "gather": {
          "logged": 1648734453921
        }
      }
    },
    {
      "cell_type": "markdown",
      "source": [
        "### Uploading Files with the help of datastore"
      ],
      "metadata": {
        "nteract": {
          "transient": {
            "deleting": false
          }
        }
      }
    },
    {
      "cell_type": "code",
      "source": [
        "from sklearn.datasets import load_diabetes\r\n",
        "import pandas as pd"
      ],
      "outputs": [],
      "execution_count": 20,
      "metadata": {
        "jupyter": {
          "source_hidden": false,
          "outputs_hidden": false
        },
        "nteract": {
          "transient": {
            "deleting": false
          }
        },
        "gather": {
          "logged": 1648734571301
        }
      }
    },
    {
      "cell_type": "code",
      "source": [
        "features, target=load_diabetes(return_X_y=True)"
      ],
      "outputs": [],
      "execution_count": 21,
      "metadata": {
        "jupyter": {
          "source_hidden": false,
          "outputs_hidden": false
        },
        "nteract": {
          "transient": {
            "deleting": false
          }
        },
        "gather": {
          "logged": 1648734588765
        }
      }
    },
    {
      "cell_type": "code",
      "source": [
        "features"
      ],
      "outputs": [
        {
          "output_type": "execute_result",
          "execution_count": 22,
          "data": {
            "text/plain": "array([[ 0.03807591,  0.05068012,  0.06169621, ..., -0.00259226,\n         0.01990842, -0.01764613],\n       [-0.00188202, -0.04464164, -0.05147406, ..., -0.03949338,\n        -0.06832974, -0.09220405],\n       [ 0.08529891,  0.05068012,  0.04445121, ..., -0.00259226,\n         0.00286377, -0.02593034],\n       ...,\n       [ 0.04170844,  0.05068012, -0.01590626, ..., -0.01107952,\n        -0.04687948,  0.01549073],\n       [-0.04547248, -0.04464164,  0.03906215, ...,  0.02655962,\n         0.04452837, -0.02593034],\n       [-0.04547248, -0.04464164, -0.0730303 , ..., -0.03949338,\n        -0.00421986,  0.00306441]])"
          },
          "metadata": {}
        }
      ],
      "execution_count": 22,
      "metadata": {
        "jupyter": {
          "source_hidden": false,
          "outputs_hidden": false
        },
        "nteract": {
          "transient": {
            "deleting": false
          }
        },
        "gather": {
          "logged": 1648734619019
        }
      }
    },
    {
      "cell_type": "code",
      "source": [
        "target"
      ],
      "outputs": [
        {
          "output_type": "execute_result",
          "execution_count": 23,
          "data": {
            "text/plain": "array([151.,  75., 141., 206., 135.,  97., 138.,  63., 110., 310., 101.,\n        69., 179., 185., 118., 171., 166., 144.,  97., 168.,  68.,  49.,\n        68., 245., 184., 202., 137.,  85., 131., 283., 129.,  59., 341.,\n        87.,  65., 102., 265., 276., 252.,  90., 100.,  55.,  61.,  92.,\n       259.,  53., 190., 142.,  75., 142., 155., 225.,  59., 104., 182.,\n       128.,  52.,  37., 170., 170.,  61., 144.,  52., 128.,  71., 163.,\n       150.,  97., 160., 178.,  48., 270., 202., 111.,  85.,  42., 170.,\n       200., 252., 113., 143.,  51.,  52., 210.,  65., 141.,  55., 134.,\n        42., 111.,  98., 164.,  48.,  96.,  90., 162., 150., 279.,  92.,\n        83., 128., 102., 302., 198.,  95.,  53., 134., 144., 232.,  81.,\n       104.,  59., 246., 297., 258., 229., 275., 281., 179., 200., 200.,\n       173., 180.,  84., 121., 161.,  99., 109., 115., 268., 274., 158.,\n       107.,  83., 103., 272.,  85., 280., 336., 281., 118., 317., 235.,\n        60., 174., 259., 178., 128.,  96., 126., 288.,  88., 292.,  71.,\n       197., 186.,  25.,  84.,  96., 195.,  53., 217., 172., 131., 214.,\n        59.,  70., 220., 268., 152.,  47.,  74., 295., 101., 151., 127.,\n       237., 225.,  81., 151., 107.,  64., 138., 185., 265., 101., 137.,\n       143., 141.,  79., 292., 178.,  91., 116.,  86., 122.,  72., 129.,\n       142.,  90., 158.,  39., 196., 222., 277.,  99., 196., 202., 155.,\n        77., 191.,  70.,  73.,  49.,  65., 263., 248., 296., 214., 185.,\n        78.,  93., 252., 150.,  77., 208.,  77., 108., 160.,  53., 220.,\n       154., 259.,  90., 246., 124.,  67.,  72., 257., 262., 275., 177.,\n        71.,  47., 187., 125.,  78.,  51., 258., 215., 303., 243.,  91.,\n       150., 310., 153., 346.,  63.,  89.,  50.,  39., 103., 308., 116.,\n       145.,  74.,  45., 115., 264.,  87., 202., 127., 182., 241.,  66.,\n        94., 283.,  64., 102., 200., 265.,  94., 230., 181., 156., 233.,\n        60., 219.,  80.,  68., 332., 248.,  84., 200.,  55.,  85.,  89.,\n        31., 129.,  83., 275.,  65., 198., 236., 253., 124.,  44., 172.,\n       114., 142., 109., 180., 144., 163., 147.,  97., 220., 190., 109.,\n       191., 122., 230., 242., 248., 249., 192., 131., 237.,  78., 135.,\n       244., 199., 270., 164.,  72.,  96., 306.,  91., 214.,  95., 216.,\n       263., 178., 113., 200., 139., 139.,  88., 148.,  88., 243.,  71.,\n        77., 109., 272.,  60.,  54., 221.,  90., 311., 281., 182., 321.,\n        58., 262., 206., 233., 242., 123., 167.,  63., 197.,  71., 168.,\n       140., 217., 121., 235., 245.,  40.,  52., 104., 132.,  88.,  69.,\n       219.,  72., 201., 110.,  51., 277.,  63., 118.,  69., 273., 258.,\n        43., 198., 242., 232., 175.,  93., 168., 275., 293., 281.,  72.,\n       140., 189., 181., 209., 136., 261., 113., 131., 174., 257.,  55.,\n        84.,  42., 146., 212., 233.,  91., 111., 152., 120.,  67., 310.,\n        94., 183.,  66., 173.,  72.,  49.,  64.,  48., 178., 104., 132.,\n       220.,  57.])"
          },
          "metadata": {}
        }
      ],
      "execution_count": 23,
      "metadata": {
        "jupyter": {
          "source_hidden": false,
          "outputs_hidden": false
        },
        "nteract": {
          "transient": {
            "deleting": false
          }
        },
        "gather": {
          "logged": 1648734624220
        }
      }
    },
    {
      "cell_type": "code",
      "source": [
        "diabetes_df=pd.DataFrame(features)"
      ],
      "outputs": [],
      "execution_count": 24,
      "metadata": {
        "jupyter": {
          "source_hidden": false,
          "outputs_hidden": false
        },
        "nteract": {
          "transient": {
            "deleting": false
          }
        },
        "gather": {
          "logged": 1648734648846
        }
      }
    },
    {
      "cell_type": "code",
      "source": [
        "diabetes_df['target']=target"
      ],
      "outputs": [],
      "execution_count": 26,
      "metadata": {
        "jupyter": {
          "source_hidden": false,
          "outputs_hidden": false
        },
        "nteract": {
          "transient": {
            "deleting": false
          }
        },
        "gather": {
          "logged": 1648734687456
        }
      }
    },
    {
      "cell_type": "code",
      "source": [
        "diabetes_df.head()"
      ],
      "outputs": [
        {
          "output_type": "execute_result",
          "execution_count": 27,
          "data": {
            "text/plain": "          0         1         2         3         4         5         6  \\\n0  0.038076  0.050680  0.061696  0.021872 -0.044223 -0.034821 -0.043401   \n1 -0.001882 -0.044642 -0.051474 -0.026328 -0.008449 -0.019163  0.074412   \n2  0.085299  0.050680  0.044451 -0.005671 -0.045599 -0.034194 -0.032356   \n3 -0.089063 -0.044642 -0.011595 -0.036656  0.012191  0.024991 -0.036038   \n4  0.005383 -0.044642 -0.036385  0.021872  0.003935  0.015596  0.008142   \n\n          7         8         9  target  \n0 -0.002592  0.019908 -0.017646   151.0  \n1 -0.039493 -0.068330 -0.092204    75.0  \n2 -0.002592  0.002864 -0.025930   141.0  \n3  0.034309  0.022692 -0.009362   206.0  \n4 -0.002592 -0.031991 -0.046641   135.0  ",
            "text/html": "<div>\n<style scoped>\n    .dataframe tbody tr th:only-of-type {\n        vertical-align: middle;\n    }\n\n    .dataframe tbody tr th {\n        vertical-align: top;\n    }\n\n    .dataframe thead th {\n        text-align: right;\n    }\n</style>\n<table border=\"1\" class=\"dataframe\">\n  <thead>\n    <tr style=\"text-align: right;\">\n      <th></th>\n      <th>0</th>\n      <th>1</th>\n      <th>2</th>\n      <th>3</th>\n      <th>4</th>\n      <th>5</th>\n      <th>6</th>\n      <th>7</th>\n      <th>8</th>\n      <th>9</th>\n      <th>target</th>\n    </tr>\n  </thead>\n  <tbody>\n    <tr>\n      <th>0</th>\n      <td>0.038076</td>\n      <td>0.050680</td>\n      <td>0.061696</td>\n      <td>0.021872</td>\n      <td>-0.044223</td>\n      <td>-0.034821</td>\n      <td>-0.043401</td>\n      <td>-0.002592</td>\n      <td>0.019908</td>\n      <td>-0.017646</td>\n      <td>151.0</td>\n    </tr>\n    <tr>\n      <th>1</th>\n      <td>-0.001882</td>\n      <td>-0.044642</td>\n      <td>-0.051474</td>\n      <td>-0.026328</td>\n      <td>-0.008449</td>\n      <td>-0.019163</td>\n      <td>0.074412</td>\n      <td>-0.039493</td>\n      <td>-0.068330</td>\n      <td>-0.092204</td>\n      <td>75.0</td>\n    </tr>\n    <tr>\n      <th>2</th>\n      <td>0.085299</td>\n      <td>0.050680</td>\n      <td>0.044451</td>\n      <td>-0.005671</td>\n      <td>-0.045599</td>\n      <td>-0.034194</td>\n      <td>-0.032356</td>\n      <td>-0.002592</td>\n      <td>0.002864</td>\n      <td>-0.025930</td>\n      <td>141.0</td>\n    </tr>\n    <tr>\n      <th>3</th>\n      <td>-0.089063</td>\n      <td>-0.044642</td>\n      <td>-0.011595</td>\n      <td>-0.036656</td>\n      <td>0.012191</td>\n      <td>0.024991</td>\n      <td>-0.036038</td>\n      <td>0.034309</td>\n      <td>0.022692</td>\n      <td>-0.009362</td>\n      <td>206.0</td>\n    </tr>\n    <tr>\n      <th>4</th>\n      <td>0.005383</td>\n      <td>-0.044642</td>\n      <td>-0.036385</td>\n      <td>0.021872</td>\n      <td>0.003935</td>\n      <td>0.015596</td>\n      <td>0.008142</td>\n      <td>-0.002592</td>\n      <td>-0.031991</td>\n      <td>-0.046641</td>\n      <td>135.0</td>\n    </tr>\n  </tbody>\n</table>\n</div>"
          },
          "metadata": {}
        }
      ],
      "execution_count": 27,
      "metadata": {
        "jupyter": {
          "source_hidden": false,
          "outputs_hidden": false
        },
        "nteract": {
          "transient": {
            "deleting": false
          }
        },
        "gather": {
          "logged": 1648734692184
        }
      }
    },
    {
      "cell_type": "code",
      "source": [
        "diabetes_df.to_csv(\"rawdata.csv\",index=False)"
      ],
      "outputs": [],
      "execution_count": 28,
      "metadata": {
        "jupyter": {
          "source_hidden": false,
          "outputs_hidden": false
        },
        "nteract": {
          "transient": {
            "deleting": false
          }
        },
        "gather": {
          "logged": 1648734722792
        }
      }
    },
    {
      "cell_type": "code",
      "source": [
        "dstore=Datastore.get(ws,datastore_name=\"myblob_datastore\")"
      ],
      "outputs": [],
      "execution_count": 29,
      "metadata": {
        "jupyter": {
          "source_hidden": false,
          "outputs_hidden": false
        },
        "nteract": {
          "transient": {
            "deleting": false
          }
        },
        "gather": {
          "logged": 1648734776121
        }
      }
    },
    {
      "cell_type": "code",
      "source": [
        "dstore.upload_files(files=[\"rawdata.csv\"],target_path=\"/data\",overwrite=True,show_progress=True)"
      ],
      "outputs": [
        {
          "output_type": "stream",
          "name": "stderr",
          "text": "\"datastore.upload_files\" is deprecated after version 1.0.69. Please use \"FileDatasetFactory.upload_directory\" instead. See Dataset API change notice at https://aka.ms/dataset-deprecation.\n"
        },
        {
          "output_type": "execute_result",
          "execution_count": 30,
          "data": {
            "text/plain": "$AZUREML_DATAREFERENCE_96b3c398adb84646baf8888df22da9ad"
          },
          "metadata": {}
        }
      ],
      "execution_count": 30,
      "metadata": {
        "jupyter": {
          "source_hidden": false,
          "outputs_hidden": false
        },
        "nteract": {
          "transient": {
            "deleting": false
          }
        },
        "gather": {
          "logged": 1648734868352
        }
      }
    },
    {
      "cell_type": "markdown",
      "source": [
        "you learned how to attach an existing Azure blob container to a new\r\n",
        "datastore within your AzureML workspace. You also learned how to easily get a reference\r\n",
        "to the workspace's default datastore, and then you uploaded a CSV file to that datastore"
      ],
      "metadata": {
        "nteract": {
          "transient": {
            "deleting": false
          }
        }
      }
    },
    {
      "cell_type": "markdown",
      "source": [
        "# Working with datasets"
      ],
      "metadata": {
        "nteract": {
          "transient": {
            "deleting": false
          }
        }
      }
    },
    {
      "cell_type": "markdown",
      "source": [
        "datasets are an abstraction layer on top of the data that you use for training and\r\n",
        "inference. They contain references to the physical data's location and provide a series of\r\n",
        "metadata that helps you understand their shape and statistical properties. They do not\r\n",
        "copy the data that resides within the datastores. AzureML offers two types of datasets:\r\n",
        "\r\n",
        "- FileDataset \r\n",
        "- TabularDataset"
      ],
      "metadata": {
        "nteract": {
          "transient": {
            "deleting": false
          }
        }
      }
    },
    {
      "cell_type": "code",
      "source": [
        "from azureml.core import Dataset\r\n",
        "\r\n",
        "dstore=Datastore(ws,name=\"myblob_datastore\")\r\n",
        "\r\n",
        "file_paths=[\r\n",
        "    (dstore,\"/data\"),\r\n",
        "]\r\n",
        "\r\n",
        "tabular_ds=Dataset.Tabular.from_delimited_files(path=file_paths)"
      ],
      "outputs": [],
      "execution_count": 38,
      "metadata": {
        "jupyter": {
          "source_hidden": false,
          "outputs_hidden": false
        },
        "nteract": {
          "transient": {
            "deleting": false
          }
        },
        "gather": {
          "logged": 1648738505489
        }
      }
    },
    {
      "cell_type": "code",
      "source": [
        "tabular_ds"
      ],
      "outputs": [
        {
          "output_type": "execute_result",
          "execution_count": 39,
          "data": {
            "text/plain": "{\n  \"source\": [\n    \"('myblob_datastore', '/data')\"\n  ],\n  \"definition\": [\n    \"GetDatastoreFiles\",\n    \"ParseDelimited\",\n    \"DropColumns\",\n    \"SetColumnTypes\"\n  ]\n}"
          },
          "metadata": {}
        }
      ],
      "execution_count": 39,
      "metadata": {
        "jupyter": {
          "source_hidden": false,
          "outputs_hidden": false
        },
        "nteract": {
          "transient": {
            "deleting": false
          }
        },
        "gather": {
          "logged": 1648738522367
        }
      }
    },
    {
      "cell_type": "code",
      "source": [
        "df=tabular_ds.to_pandas_dataframe()"
      ],
      "outputs": [],
      "execution_count": 40,
      "metadata": {
        "jupyter": {
          "source_hidden": false,
          "outputs_hidden": false
        },
        "nteract": {
          "transient": {
            "deleting": false
          }
        },
        "gather": {
          "logged": 1648738539638
        }
      }
    },
    {
      "cell_type": "markdown",
      "source": [
        "you are creating an unregistered\r\n",
        "TabularDataset using the from_delimited_files() method. Also,\r\n",
        "note that you explicitly skip the validation so that the data can be loaded from the\r\n",
        "current compute (validate=False), speeding up the declaration process.\r\n",
        "Datasets do not load the data by default unless you are explicitly invoking a method\r\n",
        "that requires the actual data. In this case, your code will reach out to the datastore,\r\n",
        "load the data in memory as a pandas DataFrame, and assign it to the df variable\r\n",
        "when you invoke the to_pandas_dataframe() method. Upon calling the\r\n",
        "len() method, you get the number of rows that DataFrame has."
      ],
      "metadata": {
        "nteract": {
          "transient": {
            "deleting": false
          }
        }
      }
    },
    {
      "cell_type": "code",
      "source": [
        "df.head()"
      ],
      "outputs": [
        {
          "output_type": "execute_result",
          "execution_count": 41,
          "data": {
            "text/plain": "          0         1         2         3         4         5         6  \\\n0  0.038076  0.050680  0.061696  0.021872 -0.044223 -0.034821 -0.043401   \n1 -0.001882 -0.044642 -0.051474 -0.026328 -0.008449 -0.019163  0.074412   \n2  0.085299  0.050680  0.044451 -0.005671 -0.045599 -0.034194 -0.032356   \n3 -0.089063 -0.044642 -0.011595 -0.036656  0.012191  0.024991 -0.036038   \n4  0.005383 -0.044642 -0.036385  0.021872  0.003935  0.015596  0.008142   \n\n          7         8         9  target  \n0 -0.002592  0.019908 -0.017646   151.0  \n1 -0.039493 -0.068330 -0.092204    75.0  \n2 -0.002592  0.002864 -0.025930   141.0  \n3  0.034309  0.022692 -0.009362   206.0  \n4 -0.002592 -0.031991 -0.046641   135.0  ",
            "text/html": "<div>\n<style scoped>\n    .dataframe tbody tr th:only-of-type {\n        vertical-align: middle;\n    }\n\n    .dataframe tbody tr th {\n        vertical-align: top;\n    }\n\n    .dataframe thead th {\n        text-align: right;\n    }\n</style>\n<table border=\"1\" class=\"dataframe\">\n  <thead>\n    <tr style=\"text-align: right;\">\n      <th></th>\n      <th>0</th>\n      <th>1</th>\n      <th>2</th>\n      <th>3</th>\n      <th>4</th>\n      <th>5</th>\n      <th>6</th>\n      <th>7</th>\n      <th>8</th>\n      <th>9</th>\n      <th>target</th>\n    </tr>\n  </thead>\n  <tbody>\n    <tr>\n      <th>0</th>\n      <td>0.038076</td>\n      <td>0.050680</td>\n      <td>0.061696</td>\n      <td>0.021872</td>\n      <td>-0.044223</td>\n      <td>-0.034821</td>\n      <td>-0.043401</td>\n      <td>-0.002592</td>\n      <td>0.019908</td>\n      <td>-0.017646</td>\n      <td>151.0</td>\n    </tr>\n    <tr>\n      <th>1</th>\n      <td>-0.001882</td>\n      <td>-0.044642</td>\n      <td>-0.051474</td>\n      <td>-0.026328</td>\n      <td>-0.008449</td>\n      <td>-0.019163</td>\n      <td>0.074412</td>\n      <td>-0.039493</td>\n      <td>-0.068330</td>\n      <td>-0.092204</td>\n      <td>75.0</td>\n    </tr>\n    <tr>\n      <th>2</th>\n      <td>0.085299</td>\n      <td>0.050680</td>\n      <td>0.044451</td>\n      <td>-0.005671</td>\n      <td>-0.045599</td>\n      <td>-0.034194</td>\n      <td>-0.032356</td>\n      <td>-0.002592</td>\n      <td>0.002864</td>\n      <td>-0.025930</td>\n      <td>141.0</td>\n    </tr>\n    <tr>\n      <th>3</th>\n      <td>-0.089063</td>\n      <td>-0.044642</td>\n      <td>-0.011595</td>\n      <td>-0.036656</td>\n      <td>0.012191</td>\n      <td>0.024991</td>\n      <td>-0.036038</td>\n      <td>0.034309</td>\n      <td>0.022692</td>\n      <td>-0.009362</td>\n      <td>206.0</td>\n    </tr>\n    <tr>\n      <th>4</th>\n      <td>0.005383</td>\n      <td>-0.044642</td>\n      <td>-0.036385</td>\n      <td>0.021872</td>\n      <td>0.003935</td>\n      <td>0.015596</td>\n      <td>0.008142</td>\n      <td>-0.002592</td>\n      <td>-0.031991</td>\n      <td>-0.046641</td>\n      <td>135.0</td>\n    </tr>\n  </tbody>\n</table>\n</div>"
          },
          "metadata": {}
        }
      ],
      "execution_count": 41,
      "metadata": {
        "jupyter": {
          "source_hidden": false,
          "outputs_hidden": false
        },
        "nteract": {
          "transient": {
            "deleting": false
          }
        },
        "gather": {
          "logged": 1648738541942
        }
      }
    },
    {
      "cell_type": "markdown",
      "source": [
        " If you want to reuse a dataset in multiple\r\n",
        "experiments, you can register it in the workspace using the register() method: \r\n"
      ],
      "metadata": {
        "nteract": {
          "transient": {
            "deleting": false
          }
        }
      }
    },
    {
      "cell_type": "code",
      "source": [
        "tabular_ds.register(ws,name=\"diabetes_dataset\",description=\"diabetes data taken from sklearn\")"
      ],
      "outputs": [
        {
          "output_type": "execute_result",
          "execution_count": 42,
          "data": {
            "text/plain": "{\n  \"source\": [\n    \"('myblob_datastore', '/data')\"\n  ],\n  \"definition\": [\n    \"GetDatastoreFiles\",\n    \"ParseDelimited\",\n    \"DropColumns\",\n    \"SetColumnTypes\"\n  ],\n  \"registration\": {\n    \"id\": \"8df7cb97-e5e6-4577-a016-8b656ef1dfdd\",\n    \"name\": \"diabetes_dataset\",\n    \"version\": 1,\n    \"description\": \"diabetes data taken from sklearn\",\n    \"workspace\": \"Workspace.create(name='prod_dev_ml_ws', subscription_id='a8b508b6-da16-4c45-84f5-cac5c9f57513', resource_group='azure-mlops')\"\n  }\n}"
          },
          "metadata": {}
        }
      ],
      "execution_count": 42,
      "metadata": {
        "jupyter": {
          "source_hidden": false,
          "outputs_hidden": false
        },
        "nteract": {
          "transient": {
            "deleting": false
          }
        },
        "gather": {
          "logged": 1648738770715
        }
      }
    },
    {
      "cell_type": "markdown",
      "source": [
        "If, instead of TabularDataset, you have a pandas DataFrame that you want to\r\n",
        "register, you can use the register_pandas_dataframe() method,"
      ],
      "metadata": {
        "nteract": {
          "transient": {
            "deleting": false
          }
        }
      }
    },
    {
      "cell_type": "code",
      "source": [
        "Dataset.Tabular.register_pandas_dataframe(df,target=(dstore,\"/data\"),name=\"diabetes_df\",description=\"registered from a dataframe\")"
      ],
      "outputs": [
        {
          "output_type": "stream",
          "name": "stdout",
          "text": "Validating arguments.\nArguments validated.\nSuccessfully obtained datastore reference and path.\nUploading file to /data/cc506c61-ddab-4322-b236-5b0f4273ec62/\nSuccessfully uploaded file to datastore.\nCreating and registering a new dataset.\nSuccessfully created and registered a new dataset.\n"
        },
        {
          "output_type": "execute_result",
          "execution_count": 43,
          "data": {
            "text/plain": "{\n  \"source\": [\n    \"('myblob_datastore', '/data/cc506c61-ddab-4322-b236-5b0f4273ec62/')\"\n  ],\n  \"definition\": [\n    \"GetDatastoreFiles\",\n    \"ReadParquetFile\",\n    \"DropColumns\"\n  ],\n  \"registration\": {\n    \"id\": \"21ad2713-aaf7-4748-a870-6495e83e221b\",\n    \"name\": \"diabetes_df\",\n    \"version\": 1,\n    \"description\": \"registered from a dataframe\",\n    \"workspace\": \"Workspace.create(name='prod_dev_ml_ws', subscription_id='a8b508b6-da16-4c45-84f5-cac5c9f57513', resource_group='azure-mlops')\"\n  }\n}"
          },
          "metadata": {}
        }
      ],
      "execution_count": 43,
      "metadata": {
        "jupyter": {
          "source_hidden": false,
          "outputs_hidden": false
        },
        "nteract": {
          "transient": {
            "deleting": false
          }
        },
        "gather": {
          "logged": 1648739072611
        }
      }
    },
    {
      "cell_type": "markdown",
      "source": [
        "Once you have registered a dataset, either FileDataset or TabularDataset,\r\n",
        "you can retrieve it using the get_by_name() method of the Dataset class"
      ],
      "metadata": {
        "nteract": {
          "transient": {
            "deleting": false
          }
        }
      }
    },
    {
      "cell_type": "code",
      "source": [
        "from azureml.core import Dataset\r\n",
        "diabetes_ds=Dataset.get_by_name(ws,name=\"diabetes_dataset\")"
      ],
      "outputs": [],
      "execution_count": 44,
      "metadata": {
        "jupyter": {
          "source_hidden": false,
          "outputs_hidden": false
        },
        "nteract": {
          "transient": {
            "deleting": false
          }
        },
        "gather": {
          "logged": 1648741321644
        }
      }
    },
    {
      "cell_type": "code",
      "source": [
        "diabetes_ds.name"
      ],
      "outputs": [
        {
          "output_type": "execute_result",
          "execution_count": 49,
          "data": {
            "text/plain": "'diabetes_dataset'"
          },
          "metadata": {}
        }
      ],
      "execution_count": 49,
      "metadata": {
        "jupyter": {
          "source_hidden": false,
          "outputs_hidden": false
        },
        "nteract": {
          "transient": {
            "deleting": false
          }
        },
        "gather": {
          "logged": 1648742260277
        }
      }
    },
    {
      "cell_type": "markdown",
      "source": [
        "The preceding code snippet returns an instance of a TabularDataset class, but\r\n",
        "the data hasn't been loaded yet. You can load the dataset partially using various\r\n",
        "methods of the TabularDataset class"
      ],
      "metadata": {
        "nteract": {
          "transient": {
            "deleting": false
          }
        }
      }
    },
    {
      "cell_type": "code",
      "source": [
        "diabetes_ds.version"
      ],
      "outputs": [
        {
          "output_type": "execute_result",
          "execution_count": 50,
          "data": {
            "text/plain": "1"
          },
          "metadata": {}
        }
      ],
      "execution_count": 50,
      "metadata": {
        "jupyter": {
          "source_hidden": false,
          "outputs_hidden": false
        },
        "nteract": {
          "transient": {
            "deleting": false
          }
        },
        "gather": {
          "logged": 1648742273117
        }
      }
    },
    {
      "cell_type": "code",
      "source": [
        "#diabetes_ds.to_pandas_dataframe()"
      ],
      "outputs": [],
      "execution_count": 52,
      "metadata": {
        "jupyter": {
          "source_hidden": false,
          "outputs_hidden": false
        },
        "nteract": {
          "transient": {
            "deleting": false
          }
        },
        "gather": {
          "logged": 1648742298218
        }
      }
    },
    {
      "cell_type": "code",
      "source": [],
      "outputs": [],
      "execution_count": null,
      "metadata": {
        "jupyter": {
          "source_hidden": false,
          "outputs_hidden": false
        },
        "nteract": {
          "transient": {
            "deleting": false
          }
        }
      }
    }
  ],
  "metadata": {
    "kernelspec": {
      "name": "python3",
      "language": "python",
      "display_name": "Python 3"
    },
    "language_info": {
      "name": "python",
      "version": "3.8.5",
      "mimetype": "text/x-python",
      "codemirror_mode": {
        "name": "ipython",
        "version": 3
      },
      "pygments_lexer": "ipython3",
      "nbconvert_exporter": "python",
      "file_extension": ".py"
    },
    "kernel_info": {
      "name": "python3"
    },
    "nteract": {
      "version": "nteract-front-end@1.0.0"
    },
    "microsoft": {
      "host": {
        "AzureML": {
          "notebookHasBeenCompleted": true
        }
      }
    }
  },
  "nbformat": 4,
  "nbformat_minor": 2
}